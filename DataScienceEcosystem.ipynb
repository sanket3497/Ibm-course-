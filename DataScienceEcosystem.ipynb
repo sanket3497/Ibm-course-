{
 "cells": [
  {
   "cell_type": "markdown",
   "id": "6f381981-2f9a-495a-b841-cd9b41c4a4c3",
   "metadata": {},
   "source": [
    "# Data Science Tools and Ecosystem"
   ]
  },
  {
   "cell_type": "markdown",
   "id": "fbce6646-697d-4530-b8aa-8514766095a3",
   "metadata": {},
   "source": [
    "In this notebook, Data Science Tools and Ecosystem are summarized."
   ]
  },
  {
   "cell_type": "markdown",
   "id": "2310e685-1c60-4e9c-b3c5-ce7e88acf50d",
   "metadata": {},
   "source": [
    "Some of the popular languages that Data Scientists use are: \n",
    "1. Python \n",
    "2. R \n",
    "3. SQL\n",
    "4. Java  "
   ]
  },
  {
   "cell_type": "markdown",
   "id": "1c4a530c-a2bf-43a4-bc0e-bd2f8e86b7ba",
   "metadata": {},
   "source": [
    "Some of the commonly used libraries used by Data Scientists include:\n",
    "1. Pandas\n",
    "2. NumPy\n",
    "3. SciPy"
   ]
  },
  {
   "cell_type": "markdown",
   "id": "f2a76a84-6adc-4c49-a1dd-bc3e9fa22d4b",
   "metadata": {},
   "source": [
    "| Data Science Tools |\n",
    "----------------------\n",
    "| Jupyter Notebook   |\n",
    "| R studios          |\n",
    "| Git Hub            |\n"
   ]
  },
  {
   "cell_type": "markdown",
   "id": "ee293f6a-2dbf-4738-8bf1-37d79dd4139a",
   "metadata": {},
   "source": [
    "### Below are a few examples of evaluating arithmetic expressions in Python"
   ]
  },
  {
   "cell_type": "code",
   "execution_count": 1,
   "id": "c3eeb0c6-d188-4401-9c21-c9a29a40e9e6",
   "metadata": {},
   "outputs": [
    {
     "data": {
      "text/plain": [
       "17"
      ]
     },
     "execution_count": 1,
     "metadata": {},
     "output_type": "execute_result"
    }
   ],
   "source": [
    "# This is a simple arithmetic expression to multiply 3 by 4, then add 5.\n",
    "(3 * 4) + 5\n"
   ]
  },
  {
   "cell_type": "code",
   "execution_count": 2,
   "id": "1b85ec38-ee63-49cb-af87-12dcc6de5068",
   "metadata": {},
   "outputs": [
    {
     "data": {
      "text/plain": [
       "3.3333333333333335"
      ]
     },
     "execution_count": 2,
     "metadata": {},
     "output_type": "execute_result"
    }
   ],
   "source": [
    "# This will convert 200 minutes to hours by dividing by 60.\n",
    "200 / 60\n"
   ]
  },
  {
   "cell_type": "markdown",
   "id": "c37e65d8-3632-4be0-b1f7-39be9fb720ea",
   "metadata": {},
   "source": [
    "**Objective:**\n",
    " * List popular programming languages for data science\n",
    " * how to create visualizations \n",
    " * tools in Data science"
   ]
  },
  {
   "cell_type": "markdown",
   "id": "476654ad-c24a-49bd-aadf-32cb51c0f7c8",
   "metadata": {},
   "source": [
    "# Author\n",
    "Sanketkumar Patel"
   ]
  },
  {
   "cell_type": "code",
   "execution_count": null,
   "id": "63bc327c-3684-4d89-8410-6de9854f0c5c",
   "metadata": {},
   "outputs": [],
   "source": []
  },
  {
   "cell_type": "code",
   "execution_count": null,
   "id": "b08844a5-42aa-465f-aeb0-c20f94b1047f",
   "metadata": {},
   "outputs": [],
   "source": []
  }
 ],
 "metadata": {
  "kernelspec": {
   "display_name": "Python",
   "language": "python",
   "name": "conda-env-python-py"
  },
  "language_info": {
   "codemirror_mode": {
    "name": "ipython",
    "version": 3
   },
   "file_extension": ".py",
   "mimetype": "text/x-python",
   "name": "python",
   "nbconvert_exporter": "python",
   "pygments_lexer": "ipython3",
   "version": "3.7.12"
  }
 },
 "nbformat": 4,
 "nbformat_minor": 5
}
